{
  "nbformat": 4,
  "nbformat_minor": 0,
  "metadata": {
    "colab": {
      "private_outputs": true,
      "provenance": [],
      "gpuType": "T4"
    },
    "kernelspec": {
      "name": "python3",
      "display_name": "Python 3"
    },
    "language_info": {
      "name": "python"
    },
    "accelerator": "GPU"
  },
  "cells": [
    {
      "cell_type": "code",
      "execution_count": null,
      "metadata": {
        "id": "9VvFKIt80zsg"
      },
      "outputs": [],
      "source": [
        "import tensorflow as tf\n",
        "import tensorflow_datasets as tfds\n",
        "\n",
        "from tensorflow.keras.models import Sequential\n",
        "from tensorflow.keras.layers import Dense, Dropout,Flatten\n",
        "from tensorflow.keras.applications import MobileNet\n",
        "\n",
        "import onnxruntime as rt\n",
        "import onnx\n",
        "import tf2onnx\n",
        "\n",
        "import matplotlib.pyplot as plt\n",
        "import numpy as np\n",
        "import cv2"
      ]
    },
    {
      "cell_type": "code",
      "source": [
        "DATASET_NAME = 'cats_vs_dogs'\n",
        "BUFFER_SIZE = 1000\n",
        "BATCH_SIZE = 64\n",
        "IMG_WIDTH = 224\n",
        "IMG_HEIGHT = 224\n",
        "LABEL = [\"Cat\", \"Dog\"]"
      ],
      "metadata": {
        "id": "mSEOJ5kt7BPb"
      },
      "execution_count": null,
      "outputs": []
    },
    {
      "cell_type": "code",
      "source": [
        "def load_and_preprocess_data(dataset_name):\n",
        "    (raw_train, raw_validation, raw_test), metadata = tfds.load(\n",
        "        dataset_name,\n",
        "        split=['train[:50%]', 'train[80%:90%]', 'train[90%:]'],\n",
        "        with_info=True,\n",
        "        as_supervised=True,\n",
        "    )\n",
        "    print(metadata)\n",
        "\n",
        "    def preprocess_image(image, label):\n",
        "        image = tf.image.convert_image_dtype(image, tf.float32)\n",
        "        image = tf.image.resize(image, [IMG_WIDTH, IMG_HEIGHT])\n",
        "        return image, label\n",
        "\n",
        "    train = raw_train.map(preprocess_image).cache().shuffle(BUFFER_SIZE).batch(BATCH_SIZE)\n",
        "    validation = raw_validation.map(preprocess_image).batch(BATCH_SIZE)\n",
        "    test = raw_test.map(preprocess_image).batch(BATCH_SIZE)\n",
        "\n",
        "    return train, validation, test\n",
        "\n",
        "\n",
        "train_dataset, validation_dataset, test_dataset = load_and_preprocess_data(DATASET_NAME)"
      ],
      "metadata": {
        "id": "cz7A-xCl1a8e"
      },
      "execution_count": null,
      "outputs": []
    },
    {
      "cell_type": "code",
      "source": [
        "mobilenat = MobileNet(input_shape=(IMG_WIDTH, IMG_HEIGHT, 3), include_top=False, weights='imagenet')"
      ],
      "metadata": {
        "id": "huTRr5232UVb"
      },
      "execution_count": null,
      "outputs": []
    },
    {
      "cell_type": "code",
      "source": [
        "model = Sequential([\n",
        "    mobilenat,\n",
        "    Flatten(),\n",
        "\n",
        "    Dense(100, activation='relu'),\n",
        "    Dropout(0.2),\n",
        "\n",
        "    Dense(2, activation=\"sigmoid\"),\n",
        "\n",
        "])"
      ],
      "metadata": {
        "id": "Hj1sfLD821wL"
      },
      "execution_count": null,
      "outputs": []
    },
    {
      "cell_type": "code",
      "source": [
        "model.compile(optimizer=tf.keras.optimizers.Adam(learning_rate=0.0001),\n",
        "              loss=tf.keras.losses.SparseCategoricalCrossentropy(from_logits=False),\n",
        "              metrics=['accuracy'])"
      ],
      "metadata": {
        "id": "5mltOg06IBGh"
      },
      "execution_count": null,
      "outputs": []
    },
    {
      "cell_type": "code",
      "source": [
        "history = model.fit(train_dataset, epochs=5, validation_data=validation_dataset)"
      ],
      "metadata": {
        "id": "MHlKFNpuIHiW"
      },
      "execution_count": null,
      "outputs": []
    },
    {
      "cell_type": "code",
      "source": [
        "loss, accuracy = model.evaluate(test_dataset)\n",
        "print(\"Test Loss:\", loss)\n",
        "print(\"Test Accuracy:\", accuracy)"
      ],
      "metadata": {
        "id": "FDoQa5i4IRMO"
      },
      "execution_count": null,
      "outputs": []
    },
    {
      "cell_type": "code",
      "source": [
        "model.save('drive/MyDrive/cats_vs_dogs.h5')"
      ],
      "metadata": {
        "id": "9WJ8TQPjIR0w"
      },
      "execution_count": null,
      "outputs": []
    },
    {
      "cell_type": "code",
      "source": [
        "onnx_model, _ = tf2onnx.convert.from_keras(model)"
      ],
      "metadata": {
        "id": "ZIVXnJkxoieD"
      },
      "execution_count": null,
      "outputs": []
    },
    {
      "cell_type": "code",
      "source": [
        "onnx.save(onnx_model, './drive/MyDrive/cats_vs_dogs_model.onnx')"
      ],
      "metadata": {
        "id": "VRcVU-hbuQfz"
      },
      "execution_count": null,
      "outputs": []
    },
    {
      "cell_type": "code",
      "source": [
        "session = rt.InferenceSession('./drive/MyDrive/cats_vs_dogs_model.onnx')"
      ],
      "metadata": {
        "id": "CuB7n2XCumen"
      },
      "execution_count": null,
      "outputs": []
    },
    {
      "cell_type": "code",
      "source": [
        "input_name = session.get_inputs()[0].name\n",
        "print(input_name)\n",
        "output_name = session.get_outputs()[0].name\n",
        "print(output_name)"
      ],
      "metadata": {
        "id": "wb0UPu8VusQH"
      },
      "execution_count": null,
      "outputs": []
    },
    {
      "cell_type": "code",
      "source": [],
      "metadata": {
        "id": "UE6kKhSJuymO"
      },
      "execution_count": null,
      "outputs": []
    },
    {
      "cell_type": "code",
      "source": [
        "first_element = test_dataset.take(1)\n",
        "for element in first_element:\n",
        "    image, label = element\n",
        "    print(image.shape, label.shape)\n",
        "    break"
      ],
      "metadata": {
        "id": "CvjRW6q8u_3n"
      },
      "execution_count": null,
      "outputs": []
    },
    {
      "cell_type": "code",
      "source": [
        "test_img = image[0].numpy()\n",
        "test_img"
      ],
      "metadata": {
        "id": "i4p-zwN2vD5f"
      },
      "execution_count": null,
      "outputs": []
    },
    {
      "cell_type": "code",
      "source": [
        "test_label = label[0].numpy()\n",
        "test_label"
      ],
      "metadata": {
        "id": "ILva7WWHva-o"
      },
      "execution_count": null,
      "outputs": []
    },
    {
      "cell_type": "code",
      "source": [
        "plt.imshow(test_img)\n",
        "plt.title(f\"Label : {test_label}\")\n",
        "plt.show()"
      ],
      "metadata": {
        "id": "EC1rkLWkv83e"
      },
      "execution_count": null,
      "outputs": []
    },
    {
      "cell_type": "code",
      "source": [
        "def onnxPred(input : np.ndarray):\n",
        "    test = cv2.resize(input, (224, 224)).astype(np.float32)\n",
        "    test = np.expand_dims(test, axis=0)\n",
        "    res = session.run([output_name], {input_name : test})\n",
        "    return np.argmax(res)"
      ],
      "metadata": {
        "id": "54ukDtFOwWFW"
      },
      "execution_count": null,
      "outputs": []
    },
    {
      "cell_type": "code",
      "source": [
        "print(LABEL[onnxPred(test_img)])"
      ],
      "metadata": {
        "id": "aKAyCnOzwsMp"
      },
      "execution_count": null,
      "outputs": []
    },
    {
      "cell_type": "code",
      "source": [],
      "metadata": {
        "id": "OPkRoWWpw51J"
      },
      "execution_count": null,
      "outputs": []
    }
  ]
}